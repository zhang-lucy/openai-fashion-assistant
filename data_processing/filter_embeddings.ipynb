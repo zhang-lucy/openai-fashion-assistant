{
 "cells": [
  {
   "cell_type": "code",
   "execution_count": 1,
   "id": "f3594c29-212d-4d7e-9fa0-77baa7e2664d",
   "metadata": {},
   "outputs": [],
   "source": [
    "import pandas as pd"
   ]
  },
  {
   "cell_type": "code",
   "execution_count": 2,
   "id": "a0001daf-cd9d-4d5c-8a0e-39403d79bae3",
   "metadata": {},
   "outputs": [],
   "source": [
    "df = pd.read_csv(\"meta_Amazon_Fashion_enhanced.csv\")"
   ]
  },
  {
   "cell_type": "code",
   "execution_count": 30,
   "id": "f2d44ea8-83f7-474d-a5b0-e7d645c73d01",
   "metadata": {},
   "outputs": [
    {
     "data": {
      "text/html": [
       "<div>\n",
       "<style scoped>\n",
       "    .dataframe tbody tr th:only-of-type {\n",
       "        vertical-align: middle;\n",
       "    }\n",
       "\n",
       "    .dataframe tbody tr th {\n",
       "        vertical-align: top;\n",
       "    }\n",
       "\n",
       "    .dataframe thead th {\n",
       "        text-align: right;\n",
       "    }\n",
       "</style>\n",
       "<table border=\"1\" class=\"dataframe\">\n",
       "  <thead>\n",
       "    <tr style=\"text-align: right;\">\n",
       "      <th></th>\n",
       "      <th>primary_key</th>\n",
       "      <th>tokens</th>\n",
       "      <th>gender_tokens</th>\n",
       "      <th>color_tokens</th>\n",
       "      <th>category_tokens</th>\n",
       "      <th>other_tokens</th>\n",
       "      <th>text_for_embedding</th>\n",
       "      <th>color_tokens_count</th>\n",
       "      <th>tokens_count</th>\n",
       "      <th>gender_tokens_count</th>\n",
       "      <th>category_tokens_count</th>\n",
       "      <th>other_tokens_count</th>\n",
       "      <th>total_tokens_count</th>\n",
       "    </tr>\n",
       "  </thead>\n",
       "  <tbody>\n",
       "    <tr>\n",
       "      <th>0</th>\n",
       "      <td>yuedge-5-pairs-mens-moisture-control-cushioned...</td>\n",
       "      <td>['yuedge', 'pairs', 'men', 'moisture', 'contro...</td>\n",
       "      <td>['men']</td>\n",
       "      <td>['blue']</td>\n",
       "      <td>['socks']</td>\n",
       "      <td>['pairs', 'control', 'dry', 'fit', 'casual']</td>\n",
       "      <td>{\"gender\": ['men'],\"color\": ['blue'],\"category...</td>\n",
       "      <td>1</td>\n",
       "      <td>22</td>\n",
       "      <td>1</td>\n",
       "      <td>1</td>\n",
       "      <td>5</td>\n",
       "      <td>8</td>\n",
       "    </tr>\n",
       "    <tr>\n",
       "      <th>1</th>\n",
       "      <td>doubcq-womens-palazzo-lounge-wide-leg-casual-f...</td>\n",
       "      <td>['doubcq', 'women', 'palazzo', 'lounge', 'wide...</td>\n",
       "      <td>['women']</td>\n",
       "      <td>['blue']</td>\n",
       "      <td>['palazzo', 'pants']</td>\n",
       "      <td>['lounge', 'wide', 'leg', 'casual', 'flowy']</td>\n",
       "      <td>{\"gender\": ['women'],\"color\": ['blue'],\"catego...</td>\n",
       "      <td>1</td>\n",
       "      <td>24</td>\n",
       "      <td>1</td>\n",
       "      <td>2</td>\n",
       "      <td>5</td>\n",
       "      <td>9</td>\n",
       "    </tr>\n",
       "    <tr>\n",
       "      <th>2</th>\n",
       "      <td>pastel-by-vivienne-honey-vanilla-girls-trapeze...</td>\n",
       "      <td>['pastel', 'vivienne', 'honey', 'vanilla', 'gi...</td>\n",
       "      <td>['girls']</td>\n",
       "      <td>['honey', 'navy']</td>\n",
       "      <td>['trapeze', 'dress']</td>\n",
       "      <td>['vivienne', 'easy', 'removable', 'large', 'ye...</td>\n",
       "      <td>{\"gender\": ['girls'],\"color\": ['honey', 'navy'...</td>\n",
       "      <td>2</td>\n",
       "      <td>25</td>\n",
       "      <td>1</td>\n",
       "      <td>2</td>\n",
       "      <td>5</td>\n",
       "      <td>10</td>\n",
       "    </tr>\n",
       "    <tr>\n",
       "      <th>3</th>\n",
       "      <td>mento-streamtail-B0811M2JG9</td>\n",
       "      <td>['mento', 'streamtail', 'slip', 'women', 'read...</td>\n",
       "      <td>['women']</td>\n",
       "      <td>[]</td>\n",
       "      <td>['thong', 'sandal']</td>\n",
       "      <td>['slip', 'beach', 'canvas', 'straps', 'soft']</td>\n",
       "      <td>{\"gender\": ['women'],\"color\": [],\"category\": [...</td>\n",
       "      <td>0</td>\n",
       "      <td>51</td>\n",
       "      <td>1</td>\n",
       "      <td>2</td>\n",
       "      <td>5</td>\n",
       "      <td>8</td>\n",
       "    </tr>\n",
       "    <tr>\n",
       "      <th>4</th>\n",
       "      <td>ronnox-womens-3-pairs-bright-colored-calf-comp...</td>\n",
       "      <td>['ronnox', 'women', 'bright', 'colored', 'calf...</td>\n",
       "      <td>['women']</td>\n",
       "      <td>['pink', 'green']</td>\n",
       "      <td>['socks']</td>\n",
       "      <td>['calf', 'compression', 'tube', 'sleeves', 'bo...</td>\n",
       "      <td>{\"gender\": ['women'],\"color\": ['pink', 'green'...</td>\n",
       "      <td>2</td>\n",
       "      <td>175</td>\n",
       "      <td>1</td>\n",
       "      <td>1</td>\n",
       "      <td>5</td>\n",
       "      <td>9</td>\n",
       "    </tr>\n",
       "  </tbody>\n",
       "</table>\n",
       "</div>"
      ],
      "text/plain": [
       "                                         primary_key  \\\n",
       "0  yuedge-5-pairs-mens-moisture-control-cushioned...   \n",
       "1  doubcq-womens-palazzo-lounge-wide-leg-casual-f...   \n",
       "2  pastel-by-vivienne-honey-vanilla-girls-trapeze...   \n",
       "3                        mento-streamtail-B0811M2JG9   \n",
       "4  ronnox-womens-3-pairs-bright-colored-calf-comp...   \n",
       "\n",
       "                                              tokens gender_tokens  \\\n",
       "0  ['yuedge', 'pairs', 'men', 'moisture', 'contro...       ['men']   \n",
       "1  ['doubcq', 'women', 'palazzo', 'lounge', 'wide...     ['women']   \n",
       "2  ['pastel', 'vivienne', 'honey', 'vanilla', 'gi...     ['girls']   \n",
       "3  ['mento', 'streamtail', 'slip', 'women', 'read...     ['women']   \n",
       "4  ['ronnox', 'women', 'bright', 'colored', 'calf...     ['women']   \n",
       "\n",
       "        color_tokens       category_tokens  \\\n",
       "0           ['blue']             ['socks']   \n",
       "1           ['blue']  ['palazzo', 'pants']   \n",
       "2  ['honey', 'navy']  ['trapeze', 'dress']   \n",
       "3                 []   ['thong', 'sandal']   \n",
       "4  ['pink', 'green']             ['socks']   \n",
       "\n",
       "                                        other_tokens  \\\n",
       "0       ['pairs', 'control', 'dry', 'fit', 'casual']   \n",
       "1       ['lounge', 'wide', 'leg', 'casual', 'flowy']   \n",
       "2  ['vivienne', 'easy', 'removable', 'large', 'ye...   \n",
       "3      ['slip', 'beach', 'canvas', 'straps', 'soft']   \n",
       "4  ['calf', 'compression', 'tube', 'sleeves', 'bo...   \n",
       "\n",
       "                                  text_for_embedding  color_tokens_count  \\\n",
       "0  {\"gender\": ['men'],\"color\": ['blue'],\"category...                   1   \n",
       "1  {\"gender\": ['women'],\"color\": ['blue'],\"catego...                   1   \n",
       "2  {\"gender\": ['girls'],\"color\": ['honey', 'navy'...                   2   \n",
       "3  {\"gender\": ['women'],\"color\": [],\"category\": [...                   0   \n",
       "4  {\"gender\": ['women'],\"color\": ['pink', 'green'...                   2   \n",
       "\n",
       "   tokens_count  gender_tokens_count  category_tokens_count  \\\n",
       "0            22                    1                      1   \n",
       "1            24                    1                      2   \n",
       "2            25                    1                      2   \n",
       "3            51                    1                      2   \n",
       "4           175                    1                      1   \n",
       "\n",
       "   other_tokens_count  total_tokens_count  \n",
       "0                   5                   8  \n",
       "1                   5                   9  \n",
       "2                   5                  10  \n",
       "3                   5                   8  \n",
       "4                   5                   9  "
      ]
     },
     "execution_count": 30,
     "metadata": {},
     "output_type": "execute_result"
    }
   ],
   "source": [
    "df.head()"
   ]
  },
  {
   "cell_type": "code",
   "execution_count": 31,
   "id": "dd2ebeb2-a250-4812-b13e-271d8ea09c3f",
   "metadata": {},
   "outputs": [
    {
     "ename": "KeyError",
     "evalue": "\"['title', 'images'] not in index\"",
     "output_type": "error",
     "traceback": [
      "\u001b[0;31m---------------------------------------------------------------------------\u001b[0m",
      "\u001b[0;31mKeyError\u001b[0m                                  Traceback (most recent call last)",
      "Cell \u001b[0;32mIn[31], line 1\u001b[0m\n\u001b[0;32m----> 1\u001b[0m df \u001b[38;5;241m=\u001b[39m df[[\u001b[38;5;124m\"\u001b[39m\u001b[38;5;124mprimary_key\u001b[39m\u001b[38;5;124m\"\u001b[39m, \u001b[38;5;124m\"\u001b[39m\u001b[38;5;124mtitle\u001b[39m\u001b[38;5;124m\"\u001b[39m, \u001b[38;5;124m\"\u001b[39m\u001b[38;5;124mimages\u001b[39m\u001b[38;5;124m\"\u001b[39m, \u001b[38;5;124m\"\u001b[39m\u001b[38;5;124mtokens\u001b[39m\u001b[38;5;124m\"\u001b[39m, \u001b[38;5;124m\"\u001b[39m\u001b[38;5;124mgender_tokens\u001b[39m\u001b[38;5;124m\"\u001b[39m, \u001b[38;5;124m\"\u001b[39m\u001b[38;5;124mcolor_tokens\u001b[39m\u001b[38;5;124m\"\u001b[39m, \u001b[38;5;124m\"\u001b[39m\u001b[38;5;124mcategory_tokens\u001b[39m\u001b[38;5;124m\"\u001b[39m, \u001b[38;5;124m\"\u001b[39m\u001b[38;5;124mother_tokens\u001b[39m\u001b[38;5;124m\"\u001b[39m, \u001b[38;5;124m\"\u001b[39m\u001b[38;5;124mtext_for_embedding\u001b[39m\u001b[38;5;124m\"\u001b[39m]]\n\u001b[1;32m      2\u001b[0m df\u001b[38;5;241m.\u001b[39mhead()\n",
      "File \u001b[0;32m/opt/anaconda3/lib/python3.12/site-packages/pandas/core/frame.py:4108\u001b[0m, in \u001b[0;36mDataFrame.__getitem__\u001b[0;34m(self, key)\u001b[0m\n\u001b[1;32m   4106\u001b[0m     \u001b[38;5;28;01mif\u001b[39;00m is_iterator(key):\n\u001b[1;32m   4107\u001b[0m         key \u001b[38;5;241m=\u001b[39m \u001b[38;5;28mlist\u001b[39m(key)\n\u001b[0;32m-> 4108\u001b[0m     indexer \u001b[38;5;241m=\u001b[39m \u001b[38;5;28mself\u001b[39m\u001b[38;5;241m.\u001b[39mcolumns\u001b[38;5;241m.\u001b[39m_get_indexer_strict(key, \u001b[38;5;124m\"\u001b[39m\u001b[38;5;124mcolumns\u001b[39m\u001b[38;5;124m\"\u001b[39m)[\u001b[38;5;241m1\u001b[39m]\n\u001b[1;32m   4110\u001b[0m \u001b[38;5;66;03m# take() does not accept boolean indexers\u001b[39;00m\n\u001b[1;32m   4111\u001b[0m \u001b[38;5;28;01mif\u001b[39;00m \u001b[38;5;28mgetattr\u001b[39m(indexer, \u001b[38;5;124m\"\u001b[39m\u001b[38;5;124mdtype\u001b[39m\u001b[38;5;124m\"\u001b[39m, \u001b[38;5;28;01mNone\u001b[39;00m) \u001b[38;5;241m==\u001b[39m \u001b[38;5;28mbool\u001b[39m:\n",
      "File \u001b[0;32m/opt/anaconda3/lib/python3.12/site-packages/pandas/core/indexes/base.py:6200\u001b[0m, in \u001b[0;36mIndex._get_indexer_strict\u001b[0;34m(self, key, axis_name)\u001b[0m\n\u001b[1;32m   6197\u001b[0m \u001b[38;5;28;01melse\u001b[39;00m:\n\u001b[1;32m   6198\u001b[0m     keyarr, indexer, new_indexer \u001b[38;5;241m=\u001b[39m \u001b[38;5;28mself\u001b[39m\u001b[38;5;241m.\u001b[39m_reindex_non_unique(keyarr)\n\u001b[0;32m-> 6200\u001b[0m \u001b[38;5;28mself\u001b[39m\u001b[38;5;241m.\u001b[39m_raise_if_missing(keyarr, indexer, axis_name)\n\u001b[1;32m   6202\u001b[0m keyarr \u001b[38;5;241m=\u001b[39m \u001b[38;5;28mself\u001b[39m\u001b[38;5;241m.\u001b[39mtake(indexer)\n\u001b[1;32m   6203\u001b[0m \u001b[38;5;28;01mif\u001b[39;00m \u001b[38;5;28misinstance\u001b[39m(key, Index):\n\u001b[1;32m   6204\u001b[0m     \u001b[38;5;66;03m# GH 42790 - Preserve name from an Index\u001b[39;00m\n",
      "File \u001b[0;32m/opt/anaconda3/lib/python3.12/site-packages/pandas/core/indexes/base.py:6252\u001b[0m, in \u001b[0;36mIndex._raise_if_missing\u001b[0;34m(self, key, indexer, axis_name)\u001b[0m\n\u001b[1;32m   6249\u001b[0m     \u001b[38;5;28;01mraise\u001b[39;00m \u001b[38;5;167;01mKeyError\u001b[39;00m(\u001b[38;5;124mf\u001b[39m\u001b[38;5;124m\"\u001b[39m\u001b[38;5;124mNone of [\u001b[39m\u001b[38;5;132;01m{\u001b[39;00mkey\u001b[38;5;132;01m}\u001b[39;00m\u001b[38;5;124m] are in the [\u001b[39m\u001b[38;5;132;01m{\u001b[39;00maxis_name\u001b[38;5;132;01m}\u001b[39;00m\u001b[38;5;124m]\u001b[39m\u001b[38;5;124m\"\u001b[39m)\n\u001b[1;32m   6251\u001b[0m not_found \u001b[38;5;241m=\u001b[39m \u001b[38;5;28mlist\u001b[39m(ensure_index(key)[missing_mask\u001b[38;5;241m.\u001b[39mnonzero()[\u001b[38;5;241m0\u001b[39m]]\u001b[38;5;241m.\u001b[39munique())\n\u001b[0;32m-> 6252\u001b[0m \u001b[38;5;28;01mraise\u001b[39;00m \u001b[38;5;167;01mKeyError\u001b[39;00m(\u001b[38;5;124mf\u001b[39m\u001b[38;5;124m\"\u001b[39m\u001b[38;5;132;01m{\u001b[39;00mnot_found\u001b[38;5;132;01m}\u001b[39;00m\u001b[38;5;124m not in index\u001b[39m\u001b[38;5;124m\"\u001b[39m)\n",
      "\u001b[0;31mKeyError\u001b[0m: \"['title', 'images'] not in index\""
     ]
    }
   ],
   "source": [
    "df = df[[\"primary_key\", \"title\", \"images\", \"tokens\", \"gender_tokens\", \"color_tokens\", \"category_tokens\", \"other_tokens\", \"text_for_embedding\"]]\n",
    "df.head()"
   ]
  },
  {
   "cell_type": "code",
   "execution_count": 12,
   "id": "dbdcf3aa-35db-4156-b453-014b4ba72c69",
   "metadata": {},
   "outputs": [],
   "source": [
    "def get_tokens_count(tokens_string):\n",
    "    if len(tokens_string) <= 2:\n",
    "        return 0\n",
    "    else:\n",
    "        count = 0\n",
    "        for t in tokens_string:\n",
    "            if t == \",\":\n",
    "                count += 1\n",
    "        return count + 1\n",
    "\n"
   ]
  },
  {
   "cell_type": "code",
   "execution_count": 15,
   "id": "89f96887-59f5-48e8-9817-2c9cfa147759",
   "metadata": {},
   "outputs": [
    {
     "name": "stderr",
     "output_type": "stream",
     "text": [
      "/var/folders/41/j730qm_55s1fcql3wtf4_crc0000gn/T/ipykernel_24261/3937819905.py:1: SettingWithCopyWarning: \n",
      "A value is trying to be set on a copy of a slice from a DataFrame.\n",
      "Try using .loc[row_indexer,col_indexer] = value instead\n",
      "\n",
      "See the caveats in the documentation: https://pandas.pydata.org/pandas-docs/stable/user_guide/indexing.html#returning-a-view-versus-a-copy\n",
      "  df[\"tokens_count\"] = df[\"tokens\"].apply(get_tokens_count)\n",
      "/var/folders/41/j730qm_55s1fcql3wtf4_crc0000gn/T/ipykernel_24261/3937819905.py:2: SettingWithCopyWarning: \n",
      "A value is trying to be set on a copy of a slice from a DataFrame.\n",
      "Try using .loc[row_indexer,col_indexer] = value instead\n",
      "\n",
      "See the caveats in the documentation: https://pandas.pydata.org/pandas-docs/stable/user_guide/indexing.html#returning-a-view-versus-a-copy\n",
      "  df[\"gender_tokens_count\"] = df[\"gender_tokens\"].apply(get_tokens_count)\n",
      "/var/folders/41/j730qm_55s1fcql3wtf4_crc0000gn/T/ipykernel_24261/3937819905.py:3: SettingWithCopyWarning: \n",
      "A value is trying to be set on a copy of a slice from a DataFrame.\n",
      "Try using .loc[row_indexer,col_indexer] = value instead\n",
      "\n",
      "See the caveats in the documentation: https://pandas.pydata.org/pandas-docs/stable/user_guide/indexing.html#returning-a-view-versus-a-copy\n",
      "  df[\"color_tokens_count\"] = df[\"color_tokens\"].apply(get_tokens_count)\n",
      "/var/folders/41/j730qm_55s1fcql3wtf4_crc0000gn/T/ipykernel_24261/3937819905.py:4: SettingWithCopyWarning: \n",
      "A value is trying to be set on a copy of a slice from a DataFrame.\n",
      "Try using .loc[row_indexer,col_indexer] = value instead\n",
      "\n",
      "See the caveats in the documentation: https://pandas.pydata.org/pandas-docs/stable/user_guide/indexing.html#returning-a-view-versus-a-copy\n",
      "  df[\"category_tokens_count\"] = df[\"category_tokens\"].apply(get_tokens_count)\n",
      "/var/folders/41/j730qm_55s1fcql3wtf4_crc0000gn/T/ipykernel_24261/3937819905.py:5: SettingWithCopyWarning: \n",
      "A value is trying to be set on a copy of a slice from a DataFrame.\n",
      "Try using .loc[row_indexer,col_indexer] = value instead\n",
      "\n",
      "See the caveats in the documentation: https://pandas.pydata.org/pandas-docs/stable/user_guide/indexing.html#returning-a-view-versus-a-copy\n",
      "  df[\"other_tokens_count\"] = df[\"other_tokens\"].apply(get_tokens_count)\n"
     ]
    }
   ],
   "source": [
    "df[\"tokens_count\"] = df[\"tokens\"].apply(get_tokens_count)\n",
    "df[\"gender_tokens_count\"] = df[\"gender_tokens\"].apply(get_tokens_count)\n",
    "df[\"color_tokens_count\"] = df[\"color_tokens\"].apply(get_tokens_count)\n",
    "df[\"category_tokens_count\"] = df[\"category_tokens\"].apply(get_tokens_count)\n",
    "df[\"other_tokens_count\"] = df[\"other_tokens\"].apply(get_tokens_count)\n",
    "# parsed_images = small_df[\"images\"].apply(parse_images);\n"
   ]
  },
  {
   "cell_type": "code",
   "execution_count": 16,
   "id": "2622d72d-4119-4e54-957f-dfdeb1c89a93",
   "metadata": {},
   "outputs": [
    {
     "data": {
      "text/html": [
       "<div>\n",
       "<style scoped>\n",
       "    .dataframe tbody tr th:only-of-type {\n",
       "        vertical-align: middle;\n",
       "    }\n",
       "\n",
       "    .dataframe tbody tr th {\n",
       "        vertical-align: top;\n",
       "    }\n",
       "\n",
       "    .dataframe thead th {\n",
       "        text-align: right;\n",
       "    }\n",
       "</style>\n",
       "<table border=\"1\" class=\"dataframe\">\n",
       "  <thead>\n",
       "    <tr style=\"text-align: right;\">\n",
       "      <th></th>\n",
       "      <th>primary_key</th>\n",
       "      <th>tokens</th>\n",
       "      <th>gender_tokens</th>\n",
       "      <th>color_tokens</th>\n",
       "      <th>category_tokens</th>\n",
       "      <th>other_tokens</th>\n",
       "      <th>text_for_embedding</th>\n",
       "      <th>color_tokens_count</th>\n",
       "      <th>tokens_count</th>\n",
       "      <th>gender_tokens_count</th>\n",
       "      <th>category_tokens_count</th>\n",
       "      <th>other_tokens_count</th>\n",
       "    </tr>\n",
       "  </thead>\n",
       "  <tbody>\n",
       "    <tr>\n",
       "      <th>0</th>\n",
       "      <td>yuedge-5-pairs-mens-moisture-control-cushioned...</td>\n",
       "      <td>['yuedge', 'pairs', 'men', 'moisture', 'contro...</td>\n",
       "      <td>['men']</td>\n",
       "      <td>['blue']</td>\n",
       "      <td>['socks']</td>\n",
       "      <td>['pairs', 'control', 'dry', 'fit', 'casual']</td>\n",
       "      <td>{\"gender\": ['men'],\"color\": ['blue'],\"category...</td>\n",
       "      <td>1</td>\n",
       "      <td>22</td>\n",
       "      <td>1</td>\n",
       "      <td>1</td>\n",
       "      <td>5</td>\n",
       "    </tr>\n",
       "    <tr>\n",
       "      <th>1</th>\n",
       "      <td>doubcq-womens-palazzo-lounge-wide-leg-casual-f...</td>\n",
       "      <td>['doubcq', 'women', 'palazzo', 'lounge', 'wide...</td>\n",
       "      <td>['women']</td>\n",
       "      <td>['blue']</td>\n",
       "      <td>['palazzo', 'pants']</td>\n",
       "      <td>['lounge', 'wide', 'leg', 'casual', 'flowy']</td>\n",
       "      <td>{\"gender\": ['women'],\"color\": ['blue'],\"catego...</td>\n",
       "      <td>1</td>\n",
       "      <td>24</td>\n",
       "      <td>1</td>\n",
       "      <td>2</td>\n",
       "      <td>5</td>\n",
       "    </tr>\n",
       "    <tr>\n",
       "      <th>2</th>\n",
       "      <td>pastel-by-vivienne-honey-vanilla-girls-trapeze...</td>\n",
       "      <td>['pastel', 'vivienne', 'honey', 'vanilla', 'gi...</td>\n",
       "      <td>['girls']</td>\n",
       "      <td>['honey', 'navy']</td>\n",
       "      <td>['trapeze', 'dress']</td>\n",
       "      <td>['vivienne', 'easy', 'removable', 'large', 'ye...</td>\n",
       "      <td>{\"gender\": ['girls'],\"color\": ['honey', 'navy'...</td>\n",
       "      <td>2</td>\n",
       "      <td>25</td>\n",
       "      <td>1</td>\n",
       "      <td>2</td>\n",
       "      <td>5</td>\n",
       "    </tr>\n",
       "    <tr>\n",
       "      <th>3</th>\n",
       "      <td>mento-streamtail-B0811M2JG9</td>\n",
       "      <td>['mento', 'streamtail', 'slip', 'women', 'read...</td>\n",
       "      <td>['women']</td>\n",
       "      <td>[]</td>\n",
       "      <td>['thong', 'sandal']</td>\n",
       "      <td>['slip', 'beach', 'canvas', 'straps', 'soft']</td>\n",
       "      <td>{\"gender\": ['women'],\"color\": [],\"category\": [...</td>\n",
       "      <td>0</td>\n",
       "      <td>51</td>\n",
       "      <td>1</td>\n",
       "      <td>2</td>\n",
       "      <td>5</td>\n",
       "    </tr>\n",
       "    <tr>\n",
       "      <th>4</th>\n",
       "      <td>ronnox-womens-3-pairs-bright-colored-calf-comp...</td>\n",
       "      <td>['ronnox', 'women', 'bright', 'colored', 'calf...</td>\n",
       "      <td>['women']</td>\n",
       "      <td>['pink', 'green']</td>\n",
       "      <td>['socks']</td>\n",
       "      <td>['calf', 'compression', 'tube', 'sleeves', 'bo...</td>\n",
       "      <td>{\"gender\": ['women'],\"color\": ['pink', 'green'...</td>\n",
       "      <td>2</td>\n",
       "      <td>175</td>\n",
       "      <td>1</td>\n",
       "      <td>1</td>\n",
       "      <td>5</td>\n",
       "    </tr>\n",
       "  </tbody>\n",
       "</table>\n",
       "</div>"
      ],
      "text/plain": [
       "                                         primary_key  \\\n",
       "0  yuedge-5-pairs-mens-moisture-control-cushioned...   \n",
       "1  doubcq-womens-palazzo-lounge-wide-leg-casual-f...   \n",
       "2  pastel-by-vivienne-honey-vanilla-girls-trapeze...   \n",
       "3                        mento-streamtail-B0811M2JG9   \n",
       "4  ronnox-womens-3-pairs-bright-colored-calf-comp...   \n",
       "\n",
       "                                              tokens gender_tokens  \\\n",
       "0  ['yuedge', 'pairs', 'men', 'moisture', 'contro...       ['men']   \n",
       "1  ['doubcq', 'women', 'palazzo', 'lounge', 'wide...     ['women']   \n",
       "2  ['pastel', 'vivienne', 'honey', 'vanilla', 'gi...     ['girls']   \n",
       "3  ['mento', 'streamtail', 'slip', 'women', 'read...     ['women']   \n",
       "4  ['ronnox', 'women', 'bright', 'colored', 'calf...     ['women']   \n",
       "\n",
       "        color_tokens       category_tokens  \\\n",
       "0           ['blue']             ['socks']   \n",
       "1           ['blue']  ['palazzo', 'pants']   \n",
       "2  ['honey', 'navy']  ['trapeze', 'dress']   \n",
       "3                 []   ['thong', 'sandal']   \n",
       "4  ['pink', 'green']             ['socks']   \n",
       "\n",
       "                                        other_tokens  \\\n",
       "0       ['pairs', 'control', 'dry', 'fit', 'casual']   \n",
       "1       ['lounge', 'wide', 'leg', 'casual', 'flowy']   \n",
       "2  ['vivienne', 'easy', 'removable', 'large', 'ye...   \n",
       "3      ['slip', 'beach', 'canvas', 'straps', 'soft']   \n",
       "4  ['calf', 'compression', 'tube', 'sleeves', 'bo...   \n",
       "\n",
       "                                  text_for_embedding  color_tokens_count  \\\n",
       "0  {\"gender\": ['men'],\"color\": ['blue'],\"category...                   1   \n",
       "1  {\"gender\": ['women'],\"color\": ['blue'],\"catego...                   1   \n",
       "2  {\"gender\": ['girls'],\"color\": ['honey', 'navy'...                   2   \n",
       "3  {\"gender\": ['women'],\"color\": [],\"category\": [...                   0   \n",
       "4  {\"gender\": ['women'],\"color\": ['pink', 'green'...                   2   \n",
       "\n",
       "   tokens_count  gender_tokens_count  category_tokens_count  \\\n",
       "0            22                    1                      1   \n",
       "1            24                    1                      2   \n",
       "2            25                    1                      2   \n",
       "3            51                    1                      2   \n",
       "4           175                    1                      1   \n",
       "\n",
       "   other_tokens_count  \n",
       "0                   5  \n",
       "1                   5  \n",
       "2                   5  \n",
       "3                   5  \n",
       "4                   5  "
      ]
     },
     "execution_count": 16,
     "metadata": {},
     "output_type": "execute_result"
    }
   ],
   "source": [
    "df.head()"
   ]
  },
  {
   "cell_type": "code",
   "execution_count": 17,
   "id": "60f7d262-fc70-4fab-a233-4ea6fb54342e",
   "metadata": {},
   "outputs": [
    {
     "name": "stderr",
     "output_type": "stream",
     "text": [
      "/var/folders/41/j730qm_55s1fcql3wtf4_crc0000gn/T/ipykernel_24261/926099712.py:1: SettingWithCopyWarning: \n",
      "A value is trying to be set on a copy of a slice from a DataFrame.\n",
      "Try using .loc[row_indexer,col_indexer] = value instead\n",
      "\n",
      "See the caveats in the documentation: https://pandas.pydata.org/pandas-docs/stable/user_guide/indexing.html#returning-a-view-versus-a-copy\n",
      "  df[\"total_tokens_count\"] = df[\"color_tokens_count\"] + df[\"gender_tokens_count\"] + df[\"category_tokens_count\"] + df[\"other_tokens_count\"]\n"
     ]
    }
   ],
   "source": [
    "df[\"total_tokens_count\"] = df[\"color_tokens_count\"] + df[\"gender_tokens_count\"] + df[\"category_tokens_count\"] + df[\"other_tokens_count\"]"
   ]
  },
  {
   "cell_type": "code",
   "execution_count": 22,
   "id": "8be1c0b5-87fd-4a0b-949d-e3dbafdb1719",
   "metadata": {},
   "outputs": [
    {
     "data": {
      "text/plain": [
       "<Axes: >"
      ]
     },
     "execution_count": 22,
     "metadata": {},
     "output_type": "execute_result"
    },
    {
     "data": {
      "image/png": "[encoded data removed]",
      "text/plain": [
       "<Figure size 640x480 with 1 Axes>"
      ]
     },
     "metadata": {},
     "output_type": "display_data"
    }
   ],
   "source": [
    "df[\"color_tokens_count\"].hist()"
   ]
  },
  {
   "cell_type": "code",
   "execution_count": 23,
   "id": "8fb81108-2247-4a99-8366-b9bd3a74a95c",
   "metadata": {},
   "outputs": [
    {
     "data": {
      "text/plain": [
       "<Axes: >"
      ]
     },
     "execution_count": 23,
     "metadata": {},
     "output_type": "execute_result"
    },
    {
     "data": {
      "image/png": "[encoded data removed]",
      "text/plain": [
       "<Figure size 640x480 with 1 Axes>"
      ]
     },
     "metadata": {},
     "output_type": "display_data"
    }
   ],
   "source": [
    "df[\"gender_tokens_count\"].hist()"
   ]
  },
  {
   "cell_type": "code",
   "execution_count": 24,
   "id": "15724fd2-45d9-4918-8c4e-c0573740d919",
   "metadata": {},
   "outputs": [
    {
     "data": {
      "text/plain": [
       "<Axes: >"
      ]
     },
     "execution_count": 24,
     "metadata": {},
     "output_type": "execute_result"
    },
    {
     "data": {
      "image/png": "[encoded data removed]",
      "text/plain": [
       "<Figure size 640x480 with 1 Axes>"
      ]
     },
     "metadata": {},
     "output_type": "display_data"
    }
   ],
   "source": [
    "df[\"category_tokens_count\"].hist()"
   ]
  },
  {
   "cell_type": "code",
   "execution_count": 25,
   "id": "41a81836-5fe2-43be-b075-23ca2dc89d07",
   "metadata": {},
   "outputs": [
    {
     "data": {
      "text/plain": [
       "<Axes: >"
      ]
     },
     "execution_count": 25,
     "metadata": {},
     "output_type": "execute_result"
    },
    {
     "data": {
      "image/png": "[encoded data removed]",
      "text/plain": [
       "<Figure size 640x480 with 1 Axes>"
      ]
     },
     "metadata": {},
     "output_type": "display_data"
    }
   ],
   "source": [
    "df[\"other_tokens_count\"].hist()"
   ]
  },
  {
   "cell_type": "code",
   "execution_count": 20,
   "id": "6d7e749d-3073-4e23-bb18-534e808b1018",
   "metadata": {},
   "outputs": [
    {
     "data": {
      "text/plain": [
       "<Axes: >"
      ]
     },
     "execution_count": 20,
     "metadata": {},
     "output_type": "execute_result"
    },
    {
     "data": {
      "image/png": "[encoded data removed]",
      "text/plain": [
       "<Figure size 640x480 with 1 Axes>"
      ]
     },
     "metadata": {},
     "output_type": "display_data"
    }
   ],
   "source": [
    "df[\"total_tokens_count\"].hist()"
   ]
  },
  {
   "cell_type": "code",
   "execution_count": 28,
   "id": "44897a98-3c33-4c9d-9a39-a22355acef76",
   "metadata": {},
   "outputs": [
    {
     "data": {
      "text/plain": [
       "111607"
      ]
     },
     "execution_count": 28,
     "metadata": {},
     "output_type": "execute_result"
    }
   ],
   "source": [
    "len(df[df[\"total_tokens_count\"] >= 10])"
   ]
  },
  {
   "cell_type": "code",
   "execution_count": 34,
   "id": "fbbca0c2-8891-4b4a-8901-84e8d64c4f2f",
   "metadata": {},
   "outputs": [],
   "source": [
    "pks = list(df[df[\"total_tokens_count\"] >= 10][\"primary_key\"])"
   ]
  },
  {
   "cell_type": "code",
   "execution_count": 35,
   "id": "7ac57f6e-4e53-48d7-bc4c-531deca8622c",
   "metadata": {},
   "outputs": [],
   "source": [
    "with open(\"ids_more_than_10_tokens.txt\", \"w+\") as f:\n",
    "    f.write(\"\\n\".join(pks))"
   ]
  },
  {
   "cell_type": "code",
   "execution_count": 36,
   "id": "31ade93c-daca-4679-87e8-a4595e7581c7",
   "metadata": {},
   "outputs": [
    {
     "name": "stderr",
     "output_type": "stream",
     "text": [
      "/var/folders/41/j730qm_55s1fcql3wtf4_crc0000gn/T/ipykernel_24261/1985728714.py:1: SettingWithCopyWarning: \n",
      "A value is trying to be set on a copy of a slice from a DataFrame.\n",
      "Try using .loc[row_indexer,col_indexer] = value instead\n",
      "\n",
      "See the caveats in the documentation: https://pandas.pydata.org/pandas-docs/stable/user_guide/indexing.html#returning-a-view-versus-a-copy\n",
      "  df[\"len_embedding\"] = df[\"text_for_embedding\"].apply(len)\n"
     ]
    }
   ],
   "source": [
    "df[\"len_embedding\"] = df[\"text_for_embedding\"].apply(len)"
   ]
  },
  {
   "cell_type": "code",
   "execution_count": 37,
   "id": "5a379e7a-55a1-40bf-9d13-925bc03bcec1",
   "metadata": {},
   "outputs": [
    {
     "data": {
      "text/plain": [
       "<Axes: >"
      ]
     },
     "execution_count": 37,
     "metadata": {},
     "output_type": "execute_result"
    },
    {
     "data": {
      "image/png": "[encoded data removed]",
      "text/plain": [
       "<Figure size 640x480 with 1 Axes>"
      ]
     },
     "metadata": {},
     "output_type": "display_data"
    }
   ],
   "source": [
    "df[\"len_embedding\"].hist()"
   ]
  },
  {
   "cell_type": "code",
   "execution_count": null,
   "id": "903ba421-3c7b-4a75-b3c4-ed837c7c9b29",
   "metadata": {},
   "outputs": [],
   "source": []
  }
 ],
 "metadata": {
  "kernelspec": {
   "display_name": "Python 3 (ipykernel)",
   "language": "python",
   "name": "python3"
  },
  "language_info": {
   "codemirror_mode": {
    "name": "ipython",
    "version": 3
   },
   "file_extension": ".py",
   "mimetype": "text/x-python",
   "name": "python",
   "nbconvert_exporter": "python",
   "pygments_lexer": "ipython3",
   "version": "3.12.2"
  }
 },
 "nbformat": 4,
 "nbformat_minor": 5
}
